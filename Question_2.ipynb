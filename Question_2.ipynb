{
 "cells": [
  {
   "cell_type": "markdown",
   "metadata": {},
   "source": [
    "# Data Science Mini Project"
   ]
  },
  {
   "cell_type": "markdown",
   "metadata": {},
   "source": [
    "## Question 2"
   ]
  },
  {
   "cell_type": "markdown",
   "metadata": {},
   "source": [
    "### Imports & Parameters"
   ]
  },
  {
   "cell_type": "code",
   "execution_count": 1,
   "metadata": {},
   "outputs": [],
   "source": [
    "import pandas as pd\n",
    "import numpy as np\n",
    "from area import area\n",
    "import statsmodels.api as sm"
   ]
  },
  {
   "cell_type": "markdown",
   "metadata": {},
   "source": [
    "### Load Datasets"
   ]
  },
  {
   "cell_type": "markdown",
   "metadata": {},
   "source": [
    "Change path to the dataset"
   ]
  },
  {
   "cell_type": "code",
   "execution_count": 2,
   "metadata": {},
   "outputs": [],
   "source": [
    "MT_dataset_path = 'MT_cleaned.csv'\n",
    "VT_dataset_path = 'VT_cleaned.csv'"
   ]
  },
  {
   "cell_type": "code",
   "execution_count": 3,
   "metadata": {},
   "outputs": [],
   "source": [
    "df_MT = pd.read_csv(MT_dataset_path, dtype=\"string\")\n",
    "df_VT = pd.read_csv(VT_dataset_path, dtype=\"string\")\n",
    "rows_count_MT = len(df_MT.index)\n",
    "rows_count_VT = len(df_VT.index)\n",
    "column_names_MT = list(df_MT.columns)\n",
    "column_names_VT = list(df_VT.columns)"
   ]
  },
  {
   "cell_type": "markdown",
   "metadata": {},
   "source": [
    "### Question 2-1"
   ]
  },
  {
   "cell_type": "code",
   "execution_count": 4,
   "metadata": {},
   "outputs": [
    {
     "name": "stdout",
     "output_type": "stream",
     "text": [
      "Proportion of male drivers in MT: 0.6749749732765495\n"
     ]
    }
   ],
   "source": [
    "num_males = (df_MT.driver_gender == \"M\").sum()\n",
    "proportion_male_drivers = num_males / rows_count_MT\n",
    "print('Proportion of male drivers in MT:', proportion_male_drivers)"
   ]
  },
  {
   "cell_type": "markdown",
   "metadata": {},
   "source": [
    "### Question 2-2"
   ]
  },
  {
   "cell_type": "code",
   "execution_count": 5,
   "metadata": {},
   "outputs": [],
   "source": [
    "num_arrested = (df_MT.is_arrested == \"TRUE\").sum()\n",
    "arresting_likelihood = num_males / rows_count_MT"
   ]
  },
  {
   "cell_type": "markdown",
   "metadata": {},
   "source": [
    "This answer is not complete!"
   ]
  },
  {
   "cell_type": "markdown",
   "metadata": {},
   "source": [
    "### Question 2-3"
   ]
  },
  {
   "cell_type": "code",
   "execution_count": 6,
   "metadata": {},
   "outputs": [
    {
     "name": "stdout",
     "output_type": "stream",
     "text": [
      "Proportion of speed violation in MT: 0.6580998111785223\n"
     ]
    }
   ],
   "source": [
    "num_speed_violation = (df_MT['violation'].str.contains(\"Speeding\")).sum()\n",
    "proportion_speed_violation = num_speed_violation / rows_count_MT\n",
    "print('Proportion of speed violation in MT:', proportion_speed_violation)"
   ]
  },
  {
   "cell_type": "markdown",
   "metadata": {},
   "source": [
    "### Question 2-4"
   ]
  },
  {
   "cell_type": "code",
   "execution_count": 7,
   "metadata": {},
   "outputs": [],
   "source": [
    "DUI_violation_MT = (df_MT['violation'].str.contains(\"DUI\")).sum()\n",
    "DUI_violation_likelihood_MT = DUI_violation_MT / rows_count_MT\n",
    "DUI_violation_VT = (df_VT['violation'].str.contains(\"DUI\")).sum()\n",
    "DUI_violation_likelihood_VT = DUI_violation_VT / rows_count_VT"
   ]
  },
  {
   "cell_type": "code",
   "execution_count": 8,
   "metadata": {},
   "outputs": [
    {
     "name": "stdout",
     "output_type": "stream",
     "text": [
      "Factor increase in traffic stop DUI likelihood in MT over VT: 4.085999694420856\n"
     ]
    }
   ],
   "source": [
    "factor_increase_MT_over_VT = DUI_violation_likelihood_MT / DUI_violation_likelihood_VT\n",
    "print('Factor increase in traffic stop DUI likelihood in MT over VT:', factor_increase_MT_over_VT)"
   ]
  },
  {
   "cell_type": "markdown",
   "metadata": {},
   "source": [
    "### Question 2-5"
   ]
  },
  {
   "cell_type": "markdown",
   "metadata": {},
   "source": [
    "Prepare Data"
   ]
  },
  {
   "cell_type": "code",
   "execution_count": 9,
   "metadata": {},
   "outputs": [],
   "source": [
    "df_MT_stopdate_vehicleyear = df_MT[['stop_date', 'vehicle_year']].dropna()\n",
    "\n",
    "stop_year = df_MT_stopdate_vehicleyear['stop_date'].str[0:4].astype(float).to_numpy()\n",
    "vehicle_year_numeric = pd.to_numeric(df_MT_stopdate_vehicleyear['vehicle_year'], errors='coerce')\n",
    "nan_vehicle_year_numeric = vehicle_year_numeric.isna()\n",
    "stop_year = stop_year[~nan_vehicle_year_numeric]\n",
    "manufacture_year = vehicle_year_numeric[~nan_vehicle_year_numeric].to_numpy()"
   ]
  },
  {
   "cell_type": "markdown",
   "metadata": {},
   "source": [
    "Linear Regression"
   ]
  },
  {
   "cell_type": "code",
   "execution_count": 10,
   "metadata": {},
   "outputs": [],
   "source": [
    "X = stop_year\n",
    "y = manufacture_year\n",
    "X2 = sm.add_constant(X)\n",
    "estimator = sm.OLS(y, X2)\n",
    "estimator_fitted = estimator.fit()"
   ]
  },
  {
   "cell_type": "markdown",
   "metadata": {},
   "source": [
    "Prediction and P Value"
   ]
  },
  {
   "cell_type": "code",
   "execution_count": 11,
   "metadata": {},
   "outputs": [
    {
     "name": "stdout",
     "output_type": "stream",
     "text": [
      "Average manufacture year of vehicles stopped in MT in 2020: 2008.8808902534918\n",
      "P-value of linear regression: 0.0\n"
     ]
    }
   ],
   "source": [
    "ypred = estimator_fitted.predict(np.array([[1., 2020.]]))\n",
    "print('Average manufacture year of vehicles stopped in MT in 2020:', ypred[0])\n",
    "pvalue = estimator_fitted.f_pvalue\n",
    "print('P-value of linear regression:', pvalue)"
   ]
  },
  {
   "cell_type": "markdown",
   "metadata": {},
   "source": [
    "### Question 2-6"
   ]
  },
  {
   "cell_type": "markdown",
   "metadata": {},
   "source": [
    "Difference in MT"
   ]
  },
  {
   "cell_type": "code",
   "execution_count": 12,
   "metadata": {},
   "outputs": [],
   "source": [
    "stop_hour = df_MT['stop_time'].dropna().str[0:2].astype(int).to_numpy()\n",
    "bin_edges = np.arange(0., 23. + 2.) - 0.5\n",
    "hist, _ = np.histogram(stop_hour, bins=bin_edges)\n",
    "# max_hour_arg = np.argmax(hist)\n",
    "# min_hour_arg = np.argmin(hist)\n",
    "max_hour = np.max(hist)\n",
    "min_hour = np.min(hist)\n",
    "difference_MT = max_hour - min_hour"
   ]
  },
  {
   "cell_type": "markdown",
   "metadata": {},
   "source": [
    "Difference in VT"
   ]
  },
  {
   "cell_type": "code",
   "execution_count": 13,
   "metadata": {},
   "outputs": [],
   "source": [
    "stop_hour = df_VT['stop_time'].dropna().str[0:2].astype(int).to_numpy()\n",
    "bin_edges = np.arange(0., 23. + 2.) - 0.5\n",
    "hist, _ = np.histogram(stop_hour, bins=bin_edges)\n",
    "# max_hour_arg = np.argmax(hist)\n",
    "# min_hour_arg = np.argmin(hist)\n",
    "max_hour = np.max(hist)\n",
    "min_hour = np.min(hist)\n",
    "difference_VT = max_hour - min_hour"
   ]
  },
  {
   "cell_type": "code",
   "execution_count": 14,
   "metadata": {},
   "outputs": [
    {
     "name": "stdout",
     "output_type": "stream",
     "text": [
      "Difference of total number of stops between max and min hours in MT: 75478\n",
      "Difference of total number of stops between max and min hours in VT: 26052\n"
     ]
    }
   ],
   "source": [
    "print('Difference of total number of stops between max and min hours in MT:', difference_MT)\n",
    "print('Difference of total number of stops between max and min hours in VT:', difference_VT)"
   ]
  },
  {
   "cell_type": "markdown",
   "metadata": {},
   "source": [
    "### Question 2-7"
   ]
  },
  {
   "cell_type": "markdown",
   "metadata": {},
   "source": [
    "A function to remove outliers.  \n",
    "Data out of (std_factor * standard deviation) boundary from mean will be removed."
   ]
  },
  {
   "cell_type": "code",
   "execution_count": 15,
   "metadata": {},
   "outputs": [],
   "source": [
    "def clean_outliers(lat_lon_numpy, std_factor):\n",
    "    lat_lon_mean = np.mean(lat_lon_numpy, axis=0)\n",
    "    lat_lon_std = np.std(lat_lon_numpy, axis=0)\n",
    "    lat_lon_lower_lim = lat_lon_mean - std_factor * lat_lon_std\n",
    "    lat_lon_higher_lim = lat_lon_mean + std_factor * lat_lon_std\n",
    "    outlier_condition = (lat_lon_numpy[:, 0] < lat_lon_lower_lim[0]) | (lat_lon_numpy[:, 0] > lat_lon_higher_lim[0]) | \\\n",
    "                        (lat_lon_numpy[:, 1] < lat_lon_lower_lim[1]) | (lat_lon_numpy[:, 1] > lat_lon_higher_lim[1])\n",
    "    lat_lon_numpy_cleaned = lat_lon_numpy[~outlier_condition]\n",
    "    # eliminated_records = lat_lon_numpy[outlier_condition]\n",
    "    return lat_lon_numpy_cleaned"
   ]
  },
  {
   "cell_type": "markdown",
   "metadata": {},
   "source": [
    "Area of each county based on latitude and longitude of records."
   ]
  },
  {
   "cell_type": "code",
   "execution_count": 16,
   "metadata": {},
   "outputs": [],
   "source": [
    "df_MT_county_lat_lon = df_MT[['county_name', 'lat', 'lon']].dropna()\n",
    "county_name_unique_MT = df_MT_county_lat_lon['county_name'].unique()\n",
    "areas = np.zeros((len(county_name_unique_MT)))\n",
    "for i_county, county in enumerate(county_name_unique_MT):\n",
    "    df_temp = df_MT_county_lat_lon[df_MT_county_lat_lon.county_name == county]\n",
    "    lat_lon_numpy = df_temp[['lat', 'lon']].astype(float).values\n",
    "    lat_lon_numpy_cleaned1 = clean_outliers(lat_lon_numpy, std_factor=5)\n",
    "    lat_lon_numpy_cleaned2 = clean_outliers(lat_lon_numpy_cleaned1, std_factor=8)\n",
    "    lat_lon = lat_lon_numpy_cleaned2.tolist()\n",
    "    obj = {'type': 'Polygon', 'coordinates': [lat_lon]}\n",
    "    areas[i_county] = area(obj) / 1000000.0"
   ]
  },
  {
   "cell_type": "markdown",
   "metadata": {},
   "source": [
    "Largest County"
   ]
  },
  {
   "cell_type": "code",
   "execution_count": 17,
   "metadata": {},
   "outputs": [
    {
     "name": "stdout",
     "output_type": "stream",
     "text": [
      "Question 2-7:\n",
      "Jefferson County is the largest county in MT\n",
      "with Area:  29204.408585247642 sq. km\n"
     ]
    }
   ],
   "source": [
    "largest_county_ind = np.argmax(areas)\n",
    "largest_county_area = areas[largest_county_ind]\n",
    "largest_county = county_name_unique_MT[largest_county_ind]\n",
    "print('Question 2-7:')\n",
    "print(largest_county, 'is the largest county in MT')\n",
    "print('with Area: ', largest_county_area, 'sq. km')"
   ]
  }
 ],
 "metadata": {
  "kernelspec": {
   "display_name": "Python 3",
   "language": "python",
   "name": "python3"
  },
  "language_info": {
   "codemirror_mode": {
    "name": "ipython",
    "version": 3
   },
   "file_extension": ".py",
   "mimetype": "text/x-python",
   "name": "python",
   "nbconvert_exporter": "python",
   "pygments_lexer": "ipython3",
   "version": "3.6.9"
  }
 },
 "nbformat": 4,
 "nbformat_minor": 2
}
